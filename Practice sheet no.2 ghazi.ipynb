{
 "cells": [
  {
   "cell_type": "code",
   "execution_count": 3,
   "metadata": {},
   "outputs": [
    {
     "name": "stdout",
     "output_type": "stream",
     "text": [
      "the area of shaded region is 7.0685834705770345\n"
     ]
    }
   ],
   "source": [
    "#1\n",
    "import math \n",
    "def area(r,l):\n",
    "    areaofcircle=math.pi*r*r\n",
    "    areaoftriangle=l*l*3\n",
    "    x=areaoftriangle=areaofcircle\n",
    "    print(\"the area of shaded region is\",x)\n",
    "\n",
    "area(1.5,3)\n",
    "    "
   ]
  },
  {
   "cell_type": "code",
   "execution_count": 19,
   "metadata": {},
   "outputs": [
    {
     "name": "stdout",
     "output_type": "stream",
     "text": [
      "sabeen\n",
      "ghazi\n"
     ]
    }
   ],
   "source": [
    "#2\n",
    "def relation(d):\n",
    "    dict={'father':'nehal','brother':'ghazi','sister':'sania','mother':'sabeen'}\n",
    "    x=dict[d]\n",
    "    return x\n",
    "print(relation('mother'))\n",
    "print(relation('brother'))\n"
   ]
  },
  {
   "cell_type": "code",
   "execution_count": 5,
   "metadata": {},
   "outputs": [
    {
     "name": "stdout",
     "output_type": "stream",
     "text": [
      "the area of shaded region is 2.25 cm^2\n"
     ]
    }
   ],
   "source": [
    "#3\n",
    "import math\n",
    "def area(r,l):\n",
    "    circlearea=math.pi*r*r\n",
    "    trianglearea=l*l*3\n",
    "    x=circlearea-trianglearea\n",
    "    print(\"the area of shaded region is\",r,\"cm^2\")\n",
    "area(2.25,5)\n",
    "\n"
   ]
  },
  {
   "cell_type": "code",
   "execution_count": 10,
   "metadata": {},
   "outputs": [
    {
     "name": "stdout",
     "output_type": "stream",
     "text": [
      "the sum of even numbers are 18\n"
     ]
    }
   ],
   "source": [
    "#4\n",
    "def even(a,b,c,d,e):\n",
    "    lst=[a,b,c,d,e]\n",
    "    sum=0\n",
    "    for i in lst:\n",
    "        if i%2==0:\n",
    "            sum+=i\n",
    "    print(\"the sum of even numbers are\",sum)\n",
    "even(5,8,9,10,7)"
   ]
  },
  {
   "cell_type": "code",
   "execution_count": 11,
   "metadata": {},
   "outputs": [
    {
     "name": "stdout",
     "output_type": "stream",
     "text": [
      "the sorted list is [4, 6, 6, 8, 9, 10]\n"
     ]
    }
   ],
   "source": [
    "#5\n",
    "def sort(a,b,c,d,e,f):\n",
    "    lst=[a,b,c,d,e,f]\n",
    "    lst.sort()\n",
    "    print(\"the sorted list is\",lst)\n",
    "sort(6,4,10,9,8,6)"
   ]
  },
  {
   "cell_type": "code",
   "execution_count": 19,
   "metadata": {},
   "outputs": [
    {
     "name": "stdout",
     "output_type": "stream",
     "text": [
      "Area =  1.50816\n",
      "Perimeter =  1.8852000000000002\n"
     ]
    }
   ],
   "source": [
    "#6\n",
    "def areaCircle(pi,r): \n",
    "    return (pi*r**2)*5/100  \n",
    "  \n",
    "def perimeterRectangle(a, b): \n",
    "    return (2 * (pi*r))*5/100 \n",
    "  \n",
    "pi = 3.142; \n",
    "r = 6; \n",
    "print (\"Area = \", areaRectangle(pi, r)) \n",
    "print (\"Perimeter = \", perimeterRectangle(pi, r)) "
   ]
  },
  {
   "cell_type": "code",
   "execution_count": 34,
   "metadata": {},
   "outputs": [
    {
     "name": "stdout",
     "output_type": "stream",
     "text": [
      "the number of vowels are  22\n",
      "the number of consonants are  49\n"
     ]
    }
   ],
   "source": [
    "#7\n",
    "\n",
    "def vowels(s):\n",
    "    vow=0\n",
    "    cons=0\n",
    "    for i in s:\n",
    "        if i in \"aeiouAEIOU\":\n",
    "            vow+=1\n",
    "        else:\n",
    "            cons+=1\n",
    "    print(\"the number of vowels are \",vow)\n",
    "    print(\"the number of consonants are \",cons)\n",
    "vowels(\"my name is ghazi and i am the students of usman institute of technology\")"
   ]
  },
  {
   "cell_type": "code",
   "execution_count": 16,
   "metadata": {},
   "outputs": [
    {
     "name": "stdout",
     "output_type": "stream",
     "text": [
      "Area =  2.4\n",
      "Perimeter =  1.76\n"
     ]
    }
   ],
   "source": [
    "#8\n",
    "def areaRectangle(a, b): \n",
    "    return (l * b)*8/100  \n",
    "  \n",
    "def perimeterRectangle(a, b): \n",
    "    return (2 * (l + b))*8/100 \n",
    "  \n",
    "l = 5; \n",
    "b = 6; \n",
    "print (\"Area = \", areaRectangle(l, b)) \n",
    "print (\"Perimeter = \", perimeterRectangle(l, b)) \n",
    "  "
   ]
  },
  {
   "cell_type": "code",
   "execution_count": 17,
   "metadata": {},
   "outputs": [
    {
     "name": "stdout",
     "output_type": "stream",
     "text": [
      "even list are  [34, 54] \n",
      "odd list are [43, 21, 43, 65, 89]\n"
     ]
    }
   ],
   "source": [
    "#9\n",
    "def str(a,b,c,d,e,f,g):\n",
    "    even=[]\n",
    "    odd=[]\n",
    "    lst=[a,b,c,d,e,f,g]\n",
    "    for i in lst:\n",
    "        if i%2==0:\n",
    "            even.append(i)\n",
    "        else:\n",
    "            odd.append(i)\n",
    "    print(\"even list are \",even,\"\\nodd list are\",odd)\n",
    "str(43,21,34,54,43,65,89)\n",
    "            "
   ]
  },
  {
   "cell_type": "code",
   "execution_count": 30,
   "metadata": {},
   "outputs": [
    {
     "name": "stdout",
     "output_type": "stream",
     "text": [
      "the missing alphabets are  ['b', 'c', 'f', 'j', 'k', 'l', 'm', 'n', 'o', 'p', 'q', 'r', 't', 'u', 'v', 'w', 'x']\n",
      "the used alphabet are  syedghazi\n",
      "s y e d g h a z i "
     ]
    }
   ],
   "source": [
    "#10\n",
    "def alpha(s):\n",
    "    alphabets=['a','b','c','d','e','f','g','h','i','j','k','l','m','n','o','p','q','r','s','t','u','v','w','x','y','z']\n",
    "    for i in s:\n",
    "        alphabets.remove(i)\n",
    "    print('the missing alphabets are ',alphabets)\n",
    "    print(\"the used alphabet are \",s)\n",
    "    for i in s:\n",
    "        print(i,end=\" \")\n",
    "alpha(\"syedghazi\")"
   ]
  },
  {
   "cell_type": "code",
   "execution_count": 21,
   "metadata": {},
   "outputs": [
    {
     "name": "stdout",
     "output_type": "stream",
     "text": [
      "going\n",
      "telling\n"
     ]
    }
   ],
   "source": [
    "#11\n",
    "def verb(x):\n",
    "    return x+\"ing\"\n",
    "print(verb(\"go\"))\n",
    "print(verb(\"tell\"))"
   ]
  },
  {
   "cell_type": "code",
   "execution_count": 25,
   "metadata": {},
   "outputs": [
    {
     "name": "stdout",
     "output_type": "stream",
     "text": [
      "the area of circle is  9.42477796076938\n",
      "None\n",
      "the area of circle is  21.991148575128552\n",
      "None\n"
     ]
    }
   ],
   "source": [
    "#12\n",
    "import math\n",
    "def area(r1,r2):\n",
    "    area1=math.pi*r1*r1\n",
    "    area2=math.pi*r2*r2\n",
    "    if r1>r2:\n",
    "        a=area1-area2\n",
    "        print(\"the area of circle is \",a)\n",
    "    elif r1<r2:\n",
    "        a=area2-area1\n",
    "        print(\"the area of circle is \",a)\n",
    "print(area(1,2))\n",
    "print(area(3,4))"
   ]
  },
  {
   "cell_type": "code",
   "execution_count": 29,
   "metadata": {},
   "outputs": [
    {
     "name": "stdout",
     "output_type": "stream",
     "text": [
      "Original String :  My Name Is Syed Muhammad Ghazi\n",
      "No. of Upper case characters :  6\n",
      "No. of Lower case Characters :  19\n"
     ]
    }
   ],
   "source": [
    "#13\n",
    "def string_test(s):\n",
    "    d={\"UPPER_CASE\":0, \"LOWER_CASE\":0}\n",
    "    for c in s:\n",
    "        if c.isupper():\n",
    "           d[\"UPPER_CASE\"]+=1\n",
    "        elif c.islower():\n",
    "           d[\"LOWER_CASE\"]+=1\n",
    "        else:\n",
    "           pass\n",
    "    print (\"Original String : \", s)\n",
    "    print (\"No. of Upper case characters : \", d[\"UPPER_CASE\"])\n",
    "    print (\"No. of Lower case Characters : \", d[\"LOWER_CASE\"])\n",
    "\n",
    "string_test('My Name Is Syed Muhammad Ghazi')"
   ]
  },
  {
   "cell_type": "code",
   "execution_count": 35,
   "metadata": {},
   "outputs": [
    {
     "name": "stdout",
     "output_type": "stream",
     "text": [
      "the area of rectangle is  10  m.sq\n",
      "the area of rectangle is  7  m.sq\n"
     ]
    }
   ],
   "source": [
    "#14\n",
    "def area_rect(l1,b1,l2,b2):\n",
    "    area1=l1*b1\n",
    "    area2=l2*b2\n",
    "    if area1>area2:\n",
    "        area=area1-area2\n",
    "        print(\"the area of rectangle is \",area,\" m.sq\")\n",
    "    elif area2>area1:\n",
    "        area=area2-area1\n",
    "        print(\"the area of rectangle is \",area,\" m.sq\")\n",
    "area_rect(4,6,7,2)\n",
    "area_rect(5,4,3,9)"
   ]
  },
  {
   "cell_type": "code",
   "execution_count": 26,
   "metadata": {},
   "outputs": [
    {
     "name": "stdout",
     "output_type": "stream",
     "text": [
      "19/90\n"
     ]
    }
   ],
   "source": [
    "#15\n",
    "import fractions\n",
    "def frac(f1,f2):\n",
    "    lst=[]\n",
    "    for i in range(f1,f2+1):\n",
    "        x=fractions.Fraction(1,i)\n",
    "        lst.append(x)\n",
    "    print(sum(lst))\n",
    "frac(9,10)\n"
   ]
  },
  {
   "cell_type": "code",
   "execution_count": 29,
   "metadata": {},
   "outputs": [
    {
     "name": "stdout",
     "output_type": "stream",
     "text": [
      "the third side of triangle is  10.0\n"
     ]
    }
   ],
   "source": [
    "#16\n",
    "import math\n",
    "def tri(h,b):\n",
    "    a=(h*h)+(b*b)\n",
    "    a=math.sqrt(a)\n",
    "    print(\"the third side of triangle is \",a)\n",
    "tri(6,8)"
   ]
  },
  {
   "cell_type": "code",
   "execution_count": 33,
   "metadata": {},
   "outputs": [
    {
     "name": "stdout",
     "output_type": "stream",
     "text": [
      "the repititive elements are:  4\n"
     ]
    }
   ],
   "source": [
    "#17\n",
    "import collections\n",
    "def chanword(a,b,c):\n",
    "    lst=[a,b,c]\n",
    "    z=0\n",
    "    an=0\n",
    "    for i in lst:\n",
    "        for j in i:\n",
    "            n=i.count(j)\n",
    "            if n>1:\n",
    "                an+=1\n",
    "    print('the repititive elements are: ',an)\n",
    "chanword(\"apple\",'mango','guava')\n"
   ]
  },
  {
   "cell_type": "code",
   "execution_count": 31,
   "metadata": {},
   "outputs": [
    {
     "name": "stdout",
     "output_type": "stream",
     "text": [
      "the area of shape is  387\n",
      "the area of shape is  488\n"
     ]
    }
   ],
   "source": [
    "#18\n",
    "def shape_area(l1,r1,l2,r2):\n",
    "    area1=l1*l1*r1\n",
    "    area2=l2*l2*r2\n",
    "    if area1>area2:\n",
    "        area=area1-area2\n",
    "        print(\"the area of shape is \",area)\n",
    "    elif area2>area1:\n",
    "        area=area2-area1\n",
    "        print(\"the area of shape is \",area)\n",
    "shape_area(1,5,7,8)\n",
    "shape_area(2,3,10,5)"
   ]
  },
  {
   "cell_type": "code",
   "execution_count": null,
   "metadata": {},
   "outputs": [],
   "source": []
  }
 ],
 "metadata": {
  "kernelspec": {
   "display_name": "Python 3",
   "language": "python",
   "name": "python3"
  },
  "language_info": {
   "codemirror_mode": {
    "name": "ipython",
    "version": 3
   },
   "file_extension": ".py",
   "mimetype": "text/x-python",
   "name": "python",
   "nbconvert_exporter": "python",
   "pygments_lexer": "ipython3",
   "version": "3.7.3"
  }
 },
 "nbformat": 4,
 "nbformat_minor": 2
}
